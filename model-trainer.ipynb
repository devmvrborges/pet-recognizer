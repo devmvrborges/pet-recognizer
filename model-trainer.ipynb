{
 "cells": [
  {
   "cell_type": "code",
   "execution_count": 1,
   "metadata": {},
   "outputs": [
    {
     "name": "stdout",
     "output_type": "stream",
     "text": [
      "WARNING:tensorflow:From c:\\Users\\mau\\AppData\\Local\\Programs\\Python\\Python311\\Lib\\site-packages\\keras\\src\\losses.py:2976: The name tf.losses.sparse_softmax_cross_entropy is deprecated. Please use tf.compat.v1.losses.sparse_softmax_cross_entropy instead.\n",
      "\n"
     ]
    }
   ],
   "source": [
    "import os\n",
    "import numpy as np\n",
    "from tensorflow.keras.preprocessing.image import ImageDataGenerator\n",
    "from tensorflow.keras.models import Sequential\n",
    "from tensorflow.keras.layers import Conv2D, MaxPooling2D, Flatten, Dense"
   ]
  },
  {
   "cell_type": "code",
   "execution_count": 2,
   "metadata": {},
   "outputs": [
    {
     "name": "stdout",
     "output_type": "stream",
     "text": [
      "Found 20 images belonging to 2 classes.\n"
     ]
    }
   ],
   "source": [
    "#root folder to learn class\n",
    "train_dir = 'preprocessing-imgs'\n",
    "\n",
    "#name to save model\n",
    "results = \"Becca_Stella_Data\"\n",
    "\n",
    "#size images\n",
    "img_size = (299, 299)\n",
    "\n",
    "#generate data to train\n",
    "train_datagen = ImageDataGenerator(rescale=1./255)\n",
    "\n",
    "train_generator = train_datagen.flow_from_directory(\n",
    "    train_dir,\n",
    "    target_size=img_size,\n",
    "    batch_size=32,\n",
    "    class_mode='categorical'\n",
    ")\n",
    "\n",
    "#length classes\n",
    "num_classes = len(os.listdir(train_dir))"
   ]
  },
  {
   "cell_type": "code",
   "execution_count": 3,
   "metadata": {},
   "outputs": [
    {
     "name": "stdout",
     "output_type": "stream",
     "text": [
      "WARNING:tensorflow:From c:\\Users\\mau\\AppData\\Local\\Programs\\Python\\Python311\\Lib\\site-packages\\keras\\src\\backend.py:873: The name tf.get_default_graph is deprecated. Please use tf.compat.v1.get_default_graph instead.\n",
      "\n",
      "WARNING:tensorflow:From c:\\Users\\mau\\AppData\\Local\\Programs\\Python\\Python311\\Lib\\site-packages\\keras\\src\\layers\\pooling\\max_pooling2d.py:161: The name tf.nn.max_pool is deprecated. Please use tf.nn.max_pool2d instead.\n",
      "\n",
      "WARNING:tensorflow:From c:\\Users\\mau\\AppData\\Local\\Programs\\Python\\Python311\\Lib\\site-packages\\keras\\src\\optimizers\\__init__.py:309: The name tf.train.Optimizer is deprecated. Please use tf.compat.v1.train.Optimizer instead.\n",
      "\n"
     ]
    }
   ],
   "source": [
    "#CNN with Keras Framework\n",
    "#traing deep learning with my pets\n",
    "\n",
    "model = Sequential()\n",
    "\n",
    "model.add(Conv2D(32, (3, 3), activation='relu', input_shape=(img_size[0], img_size[1], 3)))\n",
    "model.add(MaxPooling2D(2, 2))\n",
    "\n",
    "model.add(Conv2D(64, (3, 3), activation='relu'))\n",
    "model.add(MaxPooling2D(2, 2))\n",
    "\n",
    "model.add(Conv2D(128, (3, 3), activation='relu'))\n",
    "model.add(MaxPooling2D(2, 2))\n",
    "\n",
    "model.add(Flatten())\n",
    "model.add(Dense(512, activation='relu'))\n",
    "model.add(Dense(num_classes, activation='softmax'))\n",
    "\n",
    "model.compile(optimizer='adam', loss='categorical_crossentropy', metrics=['accuracy'])"
   ]
  },
  {
   "cell_type": "code",
   "execution_count": 4,
   "metadata": {},
   "outputs": [
    {
     "name": "stdout",
     "output_type": "stream",
     "text": [
      "Epoch 1/20\n",
      "WARNING:tensorflow:From c:\\Users\\mau\\AppData\\Local\\Programs\\Python\\Python311\\Lib\\site-packages\\keras\\src\\utils\\tf_utils.py:492: The name tf.ragged.RaggedTensorValue is deprecated. Please use tf.compat.v1.ragged.RaggedTensorValue instead.\n",
      "\n",
      "WARNING:tensorflow:From c:\\Users\\mau\\AppData\\Local\\Programs\\Python\\Python311\\Lib\\site-packages\\keras\\src\\engine\\base_layer_utils.py:384: The name tf.executing_eagerly_outside_functions is deprecated. Please use tf.compat.v1.executing_eagerly_outside_functions instead.\n",
      "\n",
      "1/1 [==============================] - 2s 2s/step - loss: 0.6871 - accuracy: 0.7000\n",
      "Epoch 2/20\n",
      "1/1 [==============================] - 1s 755ms/step - loss: 3.0814 - accuracy: 0.5500\n",
      "Epoch 3/20\n",
      "1/1 [==============================] - 1s 751ms/step - loss: 28.1239 - accuracy: 0.5000\n",
      "Epoch 4/20\n",
      "1/1 [==============================] - 1s 741ms/step - loss: 10.9977 - accuracy: 0.5000\n",
      "Epoch 5/20\n",
      "1/1 [==============================] - 1s 779ms/step - loss: 0.3766 - accuracy: 0.9000\n",
      "Epoch 6/20\n",
      "1/1 [==============================] - 1s 715ms/step - loss: 2.1745 - accuracy: 0.5000\n",
      "Epoch 7/20\n",
      "1/1 [==============================] - 1s 744ms/step - loss: 0.4694 - accuracy: 0.7000\n",
      "Epoch 8/20\n",
      "1/1 [==============================] - 1s 822ms/step - loss: 1.4561 - accuracy: 0.5000\n",
      "Epoch 9/20\n",
      "1/1 [==============================] - 1s 805ms/step - loss: 0.3544 - accuracy: 0.9500\n",
      "Epoch 10/20\n",
      "1/1 [==============================] - 1s 748ms/step - loss: 1.0073 - accuracy: 0.5000\n",
      "Epoch 11/20\n",
      "1/1 [==============================] - 1s 780ms/step - loss: 0.4322 - accuracy: 0.6500\n",
      "Epoch 12/20\n",
      "1/1 [==============================] - 1s 714ms/step - loss: 0.2786 - accuracy: 1.0000\n",
      "Epoch 13/20\n",
      "1/1 [==============================] - 1s 737ms/step - loss: 0.2473 - accuracy: 0.9000\n",
      "Epoch 14/20\n",
      "1/1 [==============================] - 1s 753ms/step - loss: 0.1864 - accuracy: 1.0000\n",
      "Epoch 15/20\n",
      "1/1 [==============================] - 1s 728ms/step - loss: 0.1287 - accuracy: 1.0000\n",
      "Epoch 16/20\n",
      "1/1 [==============================] - 1s 721ms/step - loss: 0.0729 - accuracy: 1.0000\n",
      "Epoch 17/20\n",
      "1/1 [==============================] - 1s 730ms/step - loss: 0.0380 - accuracy: 1.0000\n",
      "Epoch 18/20\n",
      "1/1 [==============================] - 1s 762ms/step - loss: 0.0292 - accuracy: 1.0000\n",
      "Epoch 19/20\n",
      "1/1 [==============================] - 1s 708ms/step - loss: 0.0088 - accuracy: 1.0000\n",
      "Epoch 20/20\n",
      "1/1 [==============================] - 1s 775ms/step - loss: 0.0061 - accuracy: 1.0000\n"
     ]
    },
    {
     "data": {
      "text/plain": [
       "<keras.src.callbacks.History at 0x1b55a477d90>"
      ]
     },
     "execution_count": 4,
     "metadata": {},
     "output_type": "execute_result"
    }
   ],
   "source": [
    "#traing my model\n",
    "model.fit(train_generator, epochs=20)"
   ]
  },
  {
   "cell_type": "code",
   "execution_count": 5,
   "metadata": {},
   "outputs": [
    {
     "name": "stdout",
     "output_type": "stream",
     "text": [
      "INFO:tensorflow:Assets written to: Becca_Stella_Data\\assets\n"
     ]
    },
    {
     "name": "stderr",
     "output_type": "stream",
     "text": [
      "INFO:tensorflow:Assets written to: Becca_Stella_Data\\assets\n"
     ]
    }
   ],
   "source": [
    "#save my model\n",
    "model.save(results)"
   ]
  }
 ],
 "metadata": {
  "kernelspec": {
   "display_name": "Python 3",
   "language": "python",
   "name": "python3"
  },
  "language_info": {
   "codemirror_mode": {
    "name": "ipython",
    "version": 3
   },
   "file_extension": ".py",
   "mimetype": "text/x-python",
   "name": "python",
   "nbconvert_exporter": "python",
   "pygments_lexer": "ipython3",
   "version": "3.11.7"
  }
 },
 "nbformat": 4,
 "nbformat_minor": 2
}
